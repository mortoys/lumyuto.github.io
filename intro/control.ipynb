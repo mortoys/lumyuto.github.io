{
  "nbformat": 4,
  "nbformat_minor": 0,
  "metadata": {
    "kernelspec": {
      "display_name": "Python 3",
      "language": "python",
      "name": "python3"
    },
    "language_info": {
      "codemirror_mode": {
        "name": "ipython",
        "version": 3
      },
      "file_extension": ".py",
      "mimetype": "text/x-python",
      "name": "python",
      "nbconvert_exporter": "python",
      "pygments_lexer": "ipython3",
      "version": "3.7.0"
    },
    "colab": {
      "name": "control.ipynb",
      "provenance": []
    }
  },
  "cells": [
    {
      "cell_type": "markdown",
      "metadata": {
        "id": "GDCpIz9rG4-W"
      },
      "source": [
        "# Control"
      ]
    },
    {
      "cell_type": "markdown",
      "metadata": {
        "id": "u6P0i0qSG4-Z"
      },
      "source": [
        "Convex optimization can be used to solve many problems that arise in control.\n",
        "In this example we show how to solve such a problem using CVXPY.\n",
        "We have a system with a state $x_t\\in {\\bf R}^n$ that varies over the time steps $t=0,\\ldots,T$, and inputs or actions $u_t\\in {\\bf R}^m$ we can use at each time step to affect the state.\n",
        "For example, $x_t$ might be the position and velocity of a rocket and $u_t$ the output of the rocket's thrusters.\n",
        "We model the evolution of the state as a linear dynamical system, i.e.,\n",
        "\n",
        "$$ x_{t+1} = Ax_t + Bu_t $$\n",
        "\n",
        "where $A \\in {\\bf R}^{n\\times n}$ and $B \\in {\\bf R}^{n\\times m}$ are known matrices.\n",
        "\n",
        "Our goal is to find the optimal actions $u_0,\\ldots,u_{T-1}$ by solving the optimization problems\n",
        "\n",
        "\\begin{array}{ll} \\mbox{minimize} & \\sum_{t=0}^{T-1} \\ell (x_t,u_t) + \\ell_T(x_T)\\\\\n",
        "\\mbox{subject to} & x_{t+1} = Ax_t + Bu_t\\\\%, \\quad t=0, \\ldots, T-1\\\\\n",
        "& (x_t,u_t) \\in \\mathcal C, \\quad x_T\\in \\mathcal C_T,\n",
        "%, \\quad \\quad t=0, \\ldots, T\n",
        "\\end{array}\n",
        "\n",
        "where $\\ell: {\\bf R}^n \\times {\\bf R}^m\\to {\\bf R}$ is the stage cost, $\\ell_T$ is the terminal cost,\n",
        "$\\mathcal C$ is the state/action constraints, and $\\mathcal C_T$ is the terminal constraint.\n",
        "The optimization problem is convex if the costs and constraints are convex.\n"
      ]
    },
    {
      "cell_type": "markdown",
      "metadata": {
        "id": "gSq3FEkqG4-a"
      },
      "source": [
        "### Example\n",
        "\n",
        "In the following code we solve a control problem with $n=8$ states, $m=2$ inputs, and horizon $T=50$.\n",
        "The matrices $A$ and $B$ and the initial state $x_0$ are randomly chosen (with $A\\approx I$).\n",
        "We use the (traditional) stage cost $\\ell(x,u) = \\|x\\|_2^2 + \\|u\\|_2^2$, the input constraint $\\|u_t\\|_\\infty \\leq 1$, and the terminal constraint $x_{T}=0$."
      ]
    },
    {
      "cell_type": "code",
      "metadata": {
        "id": "505uvTifG4-c"
      },
      "source": [
        "# Generate data for control problem.\n",
        "import numpy as np\n",
        "np.random.seed(1)\n",
        "n = 8\n",
        "m = 2\n",
        "T = 50\n",
        "alpha = 0.2\n",
        "beta = 5\n",
        "A = np.eye(n) + alpha*np.random.randn(n,n)\n",
        "B = np.random.randn(n,m)\n",
        "x_0 = beta*np.random.randn(n)"
      ],
      "execution_count": null,
      "outputs": []
    },
    {
      "cell_type": "code",
      "metadata": {
        "id": "UsQbpRjAG4-e",
        "outputId": "d4d66e14-4eb0-4e07-94f3-34109861f24b"
      },
      "source": [
        "# Form and solve control problem.\n",
        "import cvxpy as cp\n",
        "\n",
        "\n",
        "x = cp.Variable((n, T+1))\n",
        "u = cp.Variable((m, T))\n",
        "\n",
        "cost = 0\n",
        "constr = []\n",
        "for t in range(T):\n",
        "    cost += cp.sum_squares(x[:,t+1]) + cp.sum_squares(u[:,t])\n",
        "    constr += [x[:,t+1] == A@x[:,t] + B@u[:,t],\n",
        "               cp.norm(u[:,t], 'inf') <= 1]\n",
        "# sums problem objectives and concatenates constraints.\n",
        "constr += [x[:,T] == 0, x[:,0] == x_0]\n",
        "problem = cp.Problem(cp.Minimize(cost), constr)\n",
        "problem.solve(solver=cp.ECOS)"
      ],
      "execution_count": null,
      "outputs": [
        {
          "output_type": "execute_result",
          "data": {
            "text/plain": [
              "64470.57722638684"
            ]
          },
          "metadata": {
            "tags": []
          },
          "execution_count": 2
        }
      ]
    },
    {
      "cell_type": "markdown",
      "metadata": {
        "id": "F0MiBqsGG4-h"
      },
      "source": [
        "We display the results below as a $4$-high stack of plots showing $u_1$, $u_2$, $x_1$, and $x_2$ vs $t$.\n",
        "Notice that $u_t$ is saturated (i.e., $\\|u_t\\|_\\infty = 1$) over more than half of the horizon,\n",
        "which shows that the input constraint is meaningful."
      ]
    },
    {
      "cell_type": "code",
      "metadata": {
        "id": "Vg-CLe9IG4-i",
        "outputId": "e2523342-f17c-4aa1-a6e5-b1b05cea0af9"
      },
      "source": [
        "# Plot results.\n",
        "import matplotlib.pyplot as plt\n",
        "%matplotlib inline\n",
        "%config InlineBackend.figure_format = 'svg'\n",
        "\n",
        "f = plt.figure()\n",
        "\n",
        "# Plot (u_t)_1.\n",
        "ax = f.add_subplot(411)\n",
        "plt.plot(u[0,:].value)\n",
        "plt.ylabel(r\"$(u_t)_1$\", fontsize=16)\n",
        "plt.yticks(np.linspace(-1.0, 1.0, 3))\n",
        "plt.xticks([])\n",
        "\n",
        "# Plot (u_t)_2.\n",
        "plt.subplot(4,1,2)\n",
        "plt.plot(u[1,:].value)\n",
        "plt.ylabel(r\"$(u_t)_2$\", fontsize=16)\n",
        "plt.yticks(np.linspace(-1, 1, 3))\n",
        "plt.xticks([])\n",
        "\n",
        "# Plot (x_t)_1.\n",
        "plt.subplot(4,1,3)\n",
        "x1 = x[0,:].value\n",
        "plt.plot(x1)\n",
        "plt.ylabel(r\"$(x_t)_1$\", fontsize=16)\n",
        "plt.yticks([-10, 0, 10])\n",
        "plt.ylim([-10, 10])\n",
        "plt.xticks([])\n",
        "\n",
        "# Plot (x_t)_2.\n",
        "plt.subplot(4,1,4)\n",
        "x2 = x[1,:].value\n",
        "plt.plot(range(51), x2)\n",
        "plt.yticks([-25, 0, 25])\n",
        "plt.ylim([-25, 25])\n",
        "plt.ylabel(r\"$(x_t)_2$\", fontsize=16)\n",
        "plt.xlabel(r\"$t$\", fontsize=16)\n",
        "plt.tight_layout()\n",
        "plt.show()"
      ],
      "execution_count": null,
      "outputs": [
        {
          "output_type": "display_data",
          "data": {
            "image/svg+xml": "<?xml version=\"1.0\" encoding=\"utf-8\" standalone=\"no\"?>\n<!DOCTYPE svg PUBLIC \"-//W3C//DTD SVG 1.1//EN\"\n  \"http://www.w3.org/Graphics/SVG/1.1/DTD/svg11.dtd\">\n<!-- Created with matplotlib (https://matplotlib.org/) -->\n<svg height=\"279.963125pt\" version=\"1.1\" viewBox=\"0 0 421.864687 279.963125\" width=\"421.864687pt\" xmlns=\"http://www.w3.org/2000/svg\" xmlns:xlink=\"http://www.w3.org/1999/xlink\">\n <defs>\n  <style type=\"text/css\">\n*{stroke-linecap:butt;stroke-linejoin:round;}\n  </style>\n </defs>\n <g id=\"figure_1\">\n  <g id=\"patch_1\">\n   <path d=\"M 0 279.963125 \nL 421.864687 279.963125 \nL 421.864687 0 \nL 0 0 \nz\n\" style=\"fill:none;\"/>\n  </g>\n  <g id=\"axes_1\">\n   <g id=\"patch_2\">\n    <path d=\"M 54.789687 51.575 \nL 411.164687 51.575 \nL 411.164687 10.7 \nL 54.789687 10.7 \nz\n\" style=\"fill:#ffffff;\"/>\n   </g>\n   <g id=\"matplotlib.axis_1\"/>\n   <g id=\"matplotlib.axis_2\">\n    <g id=\"ytick_1\">\n     <g id=\"line2d_1\">\n      <defs>\n       <path d=\"M 0 0 \nL -3.5 0 \n\" id=\"m17aca826c5\" style=\"stroke:#000000;stroke-width:0.8;\"/>\n      </defs>\n      <g>\n       <use style=\"stroke:#000000;stroke-width:0.8;\" x=\"54.789687\" xlink:href=\"#m17aca826c5\" y=\"49.717045\"/>\n      </g>\n     </g>\n     <g id=\"text_1\">\n      <!-- −1 -->\n      <defs>\n       <path d=\"M 10.59375 35.5 \nL 73.1875 35.5 \nL 73.1875 27.203125 \nL 10.59375 27.203125 \nz\n\" id=\"DejaVuSans-8722\"/>\n       <path d=\"M 12.40625 8.296875 \nL 28.515625 8.296875 \nL 28.515625 63.921875 \nL 10.984375 60.40625 \nL 10.984375 69.390625 \nL 28.421875 72.90625 \nL 38.28125 72.90625 \nL 38.28125 8.296875 \nL 54.390625 8.296875 \nL 54.390625 0 \nL 12.40625 0 \nz\n\" id=\"DejaVuSans-49\"/>\n      </defs>\n      <g transform=\"translate(33.0475 53.516264)scale(0.1 -0.1)\">\n       <use xlink:href=\"#DejaVuSans-8722\"/>\n       <use x=\"83.789062\" xlink:href=\"#DejaVuSans-49\"/>\n      </g>\n     </g>\n    </g>\n    <g id=\"ytick_2\">\n     <g id=\"line2d_2\">\n      <g>\n       <use style=\"stroke:#000000;stroke-width:0.8;\" x=\"54.789687\" xlink:href=\"#m17aca826c5\" y=\"31.137501\"/>\n      </g>\n     </g>\n     <g id=\"text_2\">\n      <!-- 0 -->\n      <defs>\n       <path d=\"M 31.78125 66.40625 \nQ 24.171875 66.40625 20.328125 58.90625 \nQ 16.5 51.421875 16.5 36.375 \nQ 16.5 21.390625 20.328125 13.890625 \nQ 24.171875 6.390625 31.78125 6.390625 \nQ 39.453125 6.390625 43.28125 13.890625 \nQ 47.125 21.390625 47.125 36.375 \nQ 47.125 51.421875 43.28125 58.90625 \nQ 39.453125 66.40625 31.78125 66.40625 \nz\nM 31.78125 74.21875 \nQ 44.046875 74.21875 50.515625 64.515625 \nQ 56.984375 54.828125 56.984375 36.375 \nQ 56.984375 17.96875 50.515625 8.265625 \nQ 44.046875 -1.421875 31.78125 -1.421875 \nQ 19.53125 -1.421875 13.0625 8.265625 \nQ 6.59375 17.96875 6.59375 36.375 \nQ 6.59375 54.828125 13.0625 64.515625 \nQ 19.53125 74.21875 31.78125 74.21875 \nz\n\" id=\"DejaVuSans-48\"/>\n      </defs>\n      <g transform=\"translate(41.427188 34.936719)scale(0.1 -0.1)\">\n       <use xlink:href=\"#DejaVuSans-48\"/>\n      </g>\n     </g>\n    </g>\n    <g id=\"ytick_3\">\n     <g id=\"line2d_3\">\n      <g>\n       <use style=\"stroke:#000000;stroke-width:0.8;\" x=\"54.789687\" xlink:href=\"#m17aca826c5\" y=\"12.557956\"/>\n      </g>\n     </g>\n     <g id=\"text_3\">\n      <!-- 1 -->\n      <g transform=\"translate(41.427188 16.357174)scale(0.1 -0.1)\">\n       <use xlink:href=\"#DejaVuSans-49\"/>\n      </g>\n     </g>\n    </g>\n    <g id=\"text_4\">\n     <!-- $(u_t)_1$ -->\n     <defs>\n      <path d=\"M 31 75.875 \nQ 24.46875 64.65625 21.28125 53.65625 \nQ 18.109375 42.671875 18.109375 31.390625 \nQ 18.109375 20.125 21.3125 9.0625 \nQ 24.515625 -2 31 -13.1875 \nL 23.1875 -13.1875 \nQ 15.875 -1.703125 12.234375 9.375 \nQ 8.59375 20.453125 8.59375 31.390625 \nQ 8.59375 42.28125 12.203125 53.3125 \nQ 15.828125 64.359375 23.1875 75.875 \nz\n\" id=\"DejaVuSans-40\"/>\n      <path d=\"M 6.6875 21.6875 \nL 13.09375 54.6875 \nL 22.125 54.6875 \nL 15.71875 22.015625 \nQ 15.234375 19.625 15.015625 17.921875 \nQ 14.796875 16.21875 14.796875 15.09375 \nQ 14.796875 10.9375 17.328125 8.65625 \nQ 19.875 6.390625 24.515625 6.390625 \nQ 31.734375 6.390625 37 11.265625 \nQ 42.28125 16.15625 43.890625 24.421875 \nL 49.90625 54.6875 \nL 58.890625 54.6875 \nL 48.296875 0 \nL 39.3125 0 \nL 41.109375 8.59375 \nQ 37.3125 3.8125 32.0625 1.1875 \nQ 26.8125 -1.421875 20.90625 -1.421875 \nQ 13.71875 -1.421875 9.71875 2.515625 \nQ 5.71875 6.453125 5.71875 13.484375 \nQ 5.71875 14.9375 5.953125 17.140625 \nQ 6.203125 19.34375 6.6875 21.6875 \nz\n\" id=\"DejaVuSans-Oblique-117\"/>\n      <path d=\"M 42.28125 54.6875 \nL 40.921875 47.703125 \nL 23 47.703125 \nL 17.1875 18.015625 \nQ 16.890625 16.359375 16.75 15.234375 \nQ 16.609375 14.109375 16.609375 13.484375 \nQ 16.609375 10.359375 18.484375 8.9375 \nQ 20.359375 7.515625 24.515625 7.515625 \nL 33.59375 7.515625 \nL 32.078125 0 \nL 23.484375 0 \nQ 15.484375 0 11.546875 3.125 \nQ 7.625 6.25 7.625 12.59375 \nQ 7.625 13.71875 7.765625 15.0625 \nQ 7.90625 16.40625 8.203125 18.015625 \nL 14.015625 47.703125 \nL 6.390625 47.703125 \nL 7.8125 54.6875 \nL 15.28125 54.6875 \nL 18.3125 70.21875 \nL 27.296875 70.21875 \nL 24.3125 54.6875 \nz\n\" id=\"DejaVuSans-Oblique-116\"/>\n      <path d=\"M 8.015625 75.875 \nL 15.828125 75.875 \nQ 23.140625 64.359375 26.78125 53.3125 \nQ 30.421875 42.28125 30.421875 31.390625 \nQ 30.421875 20.453125 26.78125 9.375 \nQ 23.140625 -1.703125 15.828125 -13.1875 \nL 8.015625 -13.1875 \nQ 14.5 -2 17.703125 9.0625 \nQ 20.90625 20.125 20.90625 31.390625 \nQ 20.90625 42.671875 17.703125 53.65625 \nQ 14.5 64.65625 8.015625 75.875 \nz\n\" id=\"DejaVuSans-41\"/>\n     </defs>\n     <g transform=\"translate(25.72 48.7375)rotate(-90)scale(0.16 -0.16)\">\n      <use transform=\"translate(0 0.125)\" xlink:href=\"#DejaVuSans-40\"/>\n      <use transform=\"translate(39.013672 0.125)\" xlink:href=\"#DejaVuSans-Oblique-117\"/>\n      <use transform=\"translate(102.392578 -16.28125)scale(0.7)\" xlink:href=\"#DejaVuSans-Oblique-116\"/>\n      <use transform=\"translate(132.573242 0.125)\" xlink:href=\"#DejaVuSans-41\"/>\n      <use transform=\"translate(172.543945 -16.28125)scale(0.7)\" xlink:href=\"#DejaVuSans-49\"/>\n     </g>\n    </g>\n   </g>\n   <g id=\"line2d_4\">\n    <path clip-path=\"url(#p4441e9c1fe)\" d=\"M 70.988551 12.557955 \nL 77.600332 12.557955 \nL 84.212113 49.117034 \nL 90.823894 49.717045 \nL 97.435675 49.717045 \nL 104.047457 34.284095 \nL 110.659238 12.557956 \nL 117.271019 12.557956 \nL 123.8828 12.557956 \nL 130.494581 12.557956 \nL 137.106362 12.557956 \nL 143.718143 12.557956 \nL 150.329924 12.557956 \nL 156.941705 12.557956 \nL 163.553486 12.557956 \nL 170.165267 12.557956 \nL 176.777048 30.243085 \nL 183.388829 49.717045 \nL 190.000611 49.717045 \nL 196.612392 49.717045 \nL 203.224173 49.717045 \nL 209.835954 49.717045 \nL 216.447735 49.717045 \nL 223.059516 49.717045 \nL 229.671297 49.717045 \nL 236.283078 49.717045 \nL 242.894859 49.717045 \nL 249.50664 49.717045 \nL 256.118421 49.717045 \nL 262.730202 49.717044 \nL 269.341983 49.717044 \nL 275.953764 49.717044 \nL 282.565546 49.717044 \nL 289.177327 49.717044 \nL 295.789108 49.717044 \nL 302.400889 49.717043 \nL 309.01267 49.717043 \nL 315.624451 49.717042 \nL 322.236232 49.717041 \nL 328.848013 49.71704 \nL 335.459794 49.717038 \nL 342.071575 49.717034 \nL 348.683356 49.717025 \nL 355.295137 49.716995 \nL 361.906918 49.716726 \nL 368.5187 25.236636 \nL 375.130481 20.487446 \nL 381.742262 30.4322 \nL 388.354043 49.716244 \nL 394.965824 22.392374 \n\" style=\"fill:none;stroke:#1f77b4;stroke-linecap:square;stroke-width:1.5;\"/>\n   </g>\n   <g id=\"patch_3\">\n    <path d=\"M 54.789687 51.575 \nL 54.789687 10.7 \n\" style=\"fill:none;stroke:#000000;stroke-linecap:square;stroke-linejoin:miter;stroke-width:0.8;\"/>\n   </g>\n   <g id=\"patch_4\">\n    <path d=\"M 411.164687 51.575 \nL 411.164687 10.7 \n\" style=\"fill:none;stroke:#000000;stroke-linecap:square;stroke-linejoin:miter;stroke-width:0.8;\"/>\n   </g>\n   <g id=\"patch_5\">\n    <path d=\"M 54.789687 51.575 \nL 411.164687 51.575 \n\" style=\"fill:none;stroke:#000000;stroke-linecap:square;stroke-linejoin:miter;stroke-width:0.8;\"/>\n   </g>\n   <g id=\"patch_6\">\n    <path d=\"M 54.789687 10.7 \nL 411.164687 10.7 \n\" style=\"fill:none;stroke:#000000;stroke-linecap:square;stroke-linejoin:miter;stroke-width:0.8;\"/>\n   </g>\n  </g>\n  <g id=\"axes_2\">\n   <g id=\"patch_7\">\n    <path d=\"M 54.789687 113.25 \nL 411.164687 113.25 \nL 411.164687 72.375 \nL 54.789687 72.375 \nz\n\" style=\"fill:#ffffff;\"/>\n   </g>\n   <g id=\"matplotlib.axis_3\"/>\n   <g id=\"matplotlib.axis_4\">\n    <g id=\"ytick_4\">\n     <g id=\"line2d_5\">\n      <g>\n       <use style=\"stroke:#000000;stroke-width:0.8;\" x=\"54.789687\" xlink:href=\"#m17aca826c5\" y=\"111.392046\"/>\n      </g>\n     </g>\n     <g id=\"text_5\">\n      <!-- −1 -->\n      <g transform=\"translate(33.0475 115.191265)scale(0.1 -0.1)\">\n       <use xlink:href=\"#DejaVuSans-8722\"/>\n       <use x=\"83.789062\" xlink:href=\"#DejaVuSans-49\"/>\n      </g>\n     </g>\n    </g>\n    <g id=\"ytick_5\">\n     <g id=\"line2d_6\">\n      <g>\n       <use style=\"stroke:#000000;stroke-width:0.8;\" x=\"54.789687\" xlink:href=\"#m17aca826c5\" y=\"92.8125\"/>\n      </g>\n     </g>\n     <g id=\"text_6\">\n      <!-- 0 -->\n      <g transform=\"translate(41.427188 96.611719)scale(0.1 -0.1)\">\n       <use xlink:href=\"#DejaVuSans-48\"/>\n      </g>\n     </g>\n    </g>\n    <g id=\"ytick_6\">\n     <g id=\"line2d_7\">\n      <g>\n       <use style=\"stroke:#000000;stroke-width:0.8;\" x=\"54.789687\" xlink:href=\"#m17aca826c5\" y=\"74.232955\"/>\n      </g>\n     </g>\n     <g id=\"text_7\">\n      <!-- 1 -->\n      <g transform=\"translate(41.427188 78.032174)scale(0.1 -0.1)\">\n       <use xlink:href=\"#DejaVuSans-49\"/>\n      </g>\n     </g>\n    </g>\n    <g id=\"text_8\">\n     <!-- $(u_t)_2$ -->\n     <defs>\n      <path d=\"M 19.1875 8.296875 \nL 53.609375 8.296875 \nL 53.609375 0 \nL 7.328125 0 \nL 7.328125 8.296875 \nQ 12.9375 14.109375 22.625 23.890625 \nQ 32.328125 33.6875 34.8125 36.53125 \nQ 39.546875 41.84375 41.421875 45.53125 \nQ 43.3125 49.21875 43.3125 52.78125 \nQ 43.3125 58.59375 39.234375 62.25 \nQ 35.15625 65.921875 28.609375 65.921875 \nQ 23.96875 65.921875 18.8125 64.3125 \nQ 13.671875 62.703125 7.8125 59.421875 \nL 7.8125 69.390625 \nQ 13.765625 71.78125 18.9375 73 \nQ 24.125 74.21875 28.421875 74.21875 \nQ 39.75 74.21875 46.484375 68.546875 \nQ 53.21875 62.890625 53.21875 53.421875 \nQ 53.21875 48.921875 51.53125 44.890625 \nQ 49.859375 40.875 45.40625 35.40625 \nQ 44.1875 33.984375 37.640625 27.21875 \nQ 31.109375 20.453125 19.1875 8.296875 \nz\n\" id=\"DejaVuSans-50\"/>\n     </defs>\n     <g transform=\"translate(25.72 110.4125)rotate(-90)scale(0.16 -0.16)\">\n      <use transform=\"translate(0 0.125)\" xlink:href=\"#DejaVuSans-40\"/>\n      <use transform=\"translate(39.013672 0.125)\" xlink:href=\"#DejaVuSans-Oblique-117\"/>\n      <use transform=\"translate(102.392578 -16.28125)scale(0.7)\" xlink:href=\"#DejaVuSans-Oblique-116\"/>\n      <use transform=\"translate(132.573242 0.125)\" xlink:href=\"#DejaVuSans-41\"/>\n      <use transform=\"translate(172.543945 -16.28125)scale(0.7)\" xlink:href=\"#DejaVuSans-50\"/>\n     </g>\n    </g>\n   </g>\n   <g id=\"line2d_8\">\n    <path clip-path=\"url(#pc4c937ad9c)\" d=\"M 70.988551 74.232955 \nL 77.600332 74.232955 \nL 84.212113 74.232955 \nL 90.823894 74.232955 \nL 97.435675 111.392045 \nL 104.047457 111.392045 \nL 110.659238 111.392045 \nL 117.271019 111.392045 \nL 123.8828 111.392045 \nL 130.494581 111.392045 \nL 137.106362 111.392045 \nL 143.718143 111.392045 \nL 150.329924 111.392045 \nL 156.941705 110.374497 \nL 163.553486 74.232956 \nL 170.165267 74.232955 \nL 176.777048 74.232955 \nL 183.388829 74.232955 \nL 190.000611 74.232956 \nL 196.612392 74.232956 \nL 203.224173 74.232956 \nL 209.835954 74.232956 \nL 216.447735 74.232956 \nL 223.059516 74.232956 \nL 229.671297 74.232956 \nL 236.283078 74.232956 \nL 242.894859 74.232956 \nL 249.50664 74.232956 \nL 256.118421 74.232956 \nL 262.730202 74.232957 \nL 269.341983 74.232957 \nL 275.953764 74.232957 \nL 282.565546 74.232958 \nL 289.177327 74.232959 \nL 295.789108 74.23296 \nL 302.400889 74.232963 \nL 309.01267 74.232969 \nL 315.624451 74.232995 \nL 322.236232 74.716278 \nL 328.848013 98.111239 \nL 335.459794 99.680227 \nL 342.071575 100.996615 \nL 348.683356 103.269568 \nL 355.295137 105.498432 \nL 361.906918 105.551527 \nL 368.5187 99.902225 \nL 375.130481 96.626985 \nL 381.742262 81.858822 \nL 388.354043 74.233237 \nL 394.965824 106.050093 \n\" style=\"fill:none;stroke:#1f77b4;stroke-linecap:square;stroke-width:1.5;\"/>\n   </g>\n   <g id=\"patch_8\">\n    <path d=\"M 54.789687 113.25 \nL 54.789687 72.375 \n\" style=\"fill:none;stroke:#000000;stroke-linecap:square;stroke-linejoin:miter;stroke-width:0.8;\"/>\n   </g>\n   <g id=\"patch_9\">\n    <path d=\"M 411.164687 113.25 \nL 411.164687 72.375 \n\" style=\"fill:none;stroke:#000000;stroke-linecap:square;stroke-linejoin:miter;stroke-width:0.8;\"/>\n   </g>\n   <g id=\"patch_10\">\n    <path d=\"M 54.789687 113.25 \nL 411.164687 113.25 \n\" style=\"fill:none;stroke:#000000;stroke-linecap:square;stroke-linejoin:miter;stroke-width:0.8;\"/>\n   </g>\n   <g id=\"patch_11\">\n    <path d=\"M 54.789687 72.375 \nL 411.164687 72.375 \n\" style=\"fill:none;stroke:#000000;stroke-linecap:square;stroke-linejoin:miter;stroke-width:0.8;\"/>\n   </g>\n  </g>\n  <g id=\"axes_3\">\n   <g id=\"patch_12\">\n    <path d=\"M 54.789687 174.925 \nL 411.164687 174.925 \nL 411.164687 134.05 \nL 54.789687 134.05 \nz\n\" style=\"fill:#ffffff;\"/>\n   </g>\n   <g id=\"matplotlib.axis_5\"/>\n   <g id=\"matplotlib.axis_6\">\n    <g id=\"ytick_7\">\n     <g id=\"line2d_9\">\n      <g>\n       <use style=\"stroke:#000000;stroke-width:0.8;\" x=\"54.789687\" xlink:href=\"#m17aca826c5\" y=\"174.925\"/>\n      </g>\n     </g>\n     <g id=\"text_9\">\n      <!-- −10 -->\n      <g transform=\"translate(26.685 178.724219)scale(0.1 -0.1)\">\n       <use xlink:href=\"#DejaVuSans-8722\"/>\n       <use x=\"83.789062\" xlink:href=\"#DejaVuSans-49\"/>\n       <use x=\"147.412109\" xlink:href=\"#DejaVuSans-48\"/>\n      </g>\n     </g>\n    </g>\n    <g id=\"ytick_8\">\n     <g id=\"line2d_10\">\n      <g>\n       <use style=\"stroke:#000000;stroke-width:0.8;\" x=\"54.789687\" xlink:href=\"#m17aca826c5\" y=\"154.4875\"/>\n      </g>\n     </g>\n     <g id=\"text_10\">\n      <!-- 0 -->\n      <g transform=\"translate(41.427188 158.286719)scale(0.1 -0.1)\">\n       <use xlink:href=\"#DejaVuSans-48\"/>\n      </g>\n     </g>\n    </g>\n    <g id=\"ytick_9\">\n     <g id=\"line2d_11\">\n      <g>\n       <use style=\"stroke:#000000;stroke-width:0.8;\" x=\"54.789687\" xlink:href=\"#m17aca826c5\" y=\"134.05\"/>\n      </g>\n     </g>\n     <g id=\"text_11\">\n      <!-- 10 -->\n      <g transform=\"translate(35.064687 137.849219)scale(0.1 -0.1)\">\n       <use xlink:href=\"#DejaVuSans-49\"/>\n       <use x=\"63.623047\" xlink:href=\"#DejaVuSans-48\"/>\n      </g>\n     </g>\n    </g>\n    <g id=\"text_12\">\n     <!-- $(x_t)_1$ -->\n     <defs>\n      <path d=\"M 60.015625 54.6875 \nL 34.90625 27.875 \nL 50.296875 0 \nL 39.984375 0 \nL 28.421875 21.6875 \nL 8.296875 0 \nL -2.59375 0 \nL 24.3125 28.8125 \nL 10.015625 54.6875 \nL 20.3125 54.6875 \nL 30.8125 34.90625 \nL 49.125 54.6875 \nz\n\" id=\"DejaVuSans-Oblique-120\"/>\n     </defs>\n     <g transform=\"translate(19.3575 171.7675)rotate(-90)scale(0.16 -0.16)\">\n      <use transform=\"translate(0 0.125)\" xlink:href=\"#DejaVuSans-40\"/>\n      <use transform=\"translate(39.013672 0.125)\" xlink:href=\"#DejaVuSans-Oblique-120\"/>\n      <use transform=\"translate(98.193359 -16.28125)scale(0.7)\" xlink:href=\"#DejaVuSans-Oblique-116\"/>\n      <use transform=\"translate(128.374023 0.125)\" xlink:href=\"#DejaVuSans-41\"/>\n      <use transform=\"translate(168.344727 -16.28125)scale(0.7)\" xlink:href=\"#DejaVuSans-49\"/>\n     </g>\n    </g>\n   </g>\n   <g id=\"line2d_12\">\n    <path clip-path=\"url(#pd8bc57d5f9)\" d=\"M 70.988551 156.759416 \nL 77.468097 160.691104 \nL 83.947642 164.86564 \nL 90.427188 170.386388 \nL 96.906733 173.136268 \nL 103.386278 171.315664 \nL 109.865824 167.992792 \nL 116.345369 163.467818 \nL 122.824915 159.657832 \nL 129.30446 156.558626 \nL 135.784006 154.052236 \nL 142.263551 152.023202 \nL 148.743097 150.498862 \nL 155.222642 149.792617 \nL 161.702187 150.643655 \nL 168.181733 154.452511 \nL 174.661278 157.523506 \nL 181.140824 160.813578 \nL 187.620369 163.928238 \nL 194.099915 165.411054 \nL 200.57946 165.544491 \nL 207.059006 164.710182 \nL 213.538551 163.307592 \nL 220.018097 161.688713 \nL 226.497642 160.118675 \nL 232.977187 158.763094 \nL 239.456733 157.697183 \nL 245.936278 156.928863 \nL 252.415824 156.427729 \nL 258.895369 156.152955 \nL 265.374915 156.07516 \nL 271.85446 156.189302 \nL 278.334006 156.517284 \nL 284.813551 157.099945 \nL 291.293097 157.978451 \nL 297.772642 159.164921 \nL 304.252187 160.601778 \nL 310.731733 162.1091 \nL 317.211278 163.319704 \nL 323.690824 163.599262 \nL 330.170369 161.850813 \nL 336.649915 160.234974 \nL 343.12946 158.649836 \nL 349.609006 156.984939 \nL 356.088551 155.367011 \nL 362.568097 154.190606 \nL 369.047642 152.659165 \nL 375.527187 152.348423 \nL 382.006733 154.216032 \nL 388.486278 156.570183 \nL 394.965824 154.4875 \n\" style=\"fill:none;stroke:#1f77b4;stroke-linecap:square;stroke-width:1.5;\"/>\n   </g>\n   <g id=\"patch_13\">\n    <path d=\"M 54.789687 174.925 \nL 54.789687 134.05 \n\" style=\"fill:none;stroke:#000000;stroke-linecap:square;stroke-linejoin:miter;stroke-width:0.8;\"/>\n   </g>\n   <g id=\"patch_14\">\n    <path d=\"M 411.164687 174.925 \nL 411.164687 134.05 \n\" style=\"fill:none;stroke:#000000;stroke-linecap:square;stroke-linejoin:miter;stroke-width:0.8;\"/>\n   </g>\n   <g id=\"patch_15\">\n    <path d=\"M 54.789688 174.925 \nL 411.164687 174.925 \n\" style=\"fill:none;stroke:#000000;stroke-linecap:square;stroke-linejoin:miter;stroke-width:0.8;\"/>\n   </g>\n   <g id=\"patch_16\">\n    <path d=\"M 54.789688 134.05 \nL 411.164687 134.05 \n\" style=\"fill:none;stroke:#000000;stroke-linecap:square;stroke-linejoin:miter;stroke-width:0.8;\"/>\n   </g>\n  </g>\n  <g id=\"axes_4\">\n   <g id=\"patch_17\">\n    <path d=\"M 54.789687 236.6 \nL 411.164687 236.6 \nL 411.164687 195.725 \nL 54.789687 195.725 \nz\n\" style=\"fill:#ffffff;\"/>\n   </g>\n   <g id=\"matplotlib.axis_7\">\n    <g id=\"xtick_1\">\n     <g id=\"line2d_13\">\n      <defs>\n       <path d=\"M 0 0 \nL 0 3.5 \n\" id=\"m58badeb560\" style=\"stroke:#000000;stroke-width:0.8;\"/>\n      </defs>\n      <g>\n       <use style=\"stroke:#000000;stroke-width:0.8;\" x=\"70.988551\" xlink:href=\"#m58badeb560\" y=\"236.6\"/>\n      </g>\n     </g>\n     <g id=\"text_13\">\n      <!-- 0 -->\n      <g transform=\"translate(67.807301 251.198438)scale(0.1 -0.1)\">\n       <use xlink:href=\"#DejaVuSans-48\"/>\n      </g>\n     </g>\n    </g>\n    <g id=\"xtick_2\">\n     <g id=\"line2d_14\">\n      <g>\n       <use style=\"stroke:#000000;stroke-width:0.8;\" x=\"135.784006\" xlink:href=\"#m58badeb560\" y=\"236.6\"/>\n      </g>\n     </g>\n     <g id=\"text_14\">\n      <!-- 10 -->\n      <g transform=\"translate(129.421506 251.198438)scale(0.1 -0.1)\">\n       <use xlink:href=\"#DejaVuSans-49\"/>\n       <use x=\"63.623047\" xlink:href=\"#DejaVuSans-48\"/>\n      </g>\n     </g>\n    </g>\n    <g id=\"xtick_3\">\n     <g id=\"line2d_15\">\n      <g>\n       <use style=\"stroke:#000000;stroke-width:0.8;\" x=\"200.57946\" xlink:href=\"#m58badeb560\" y=\"236.6\"/>\n      </g>\n     </g>\n     <g id=\"text_15\">\n      <!-- 20 -->\n      <g transform=\"translate(194.21696 251.198438)scale(0.1 -0.1)\">\n       <use xlink:href=\"#DejaVuSans-50\"/>\n       <use x=\"63.623047\" xlink:href=\"#DejaVuSans-48\"/>\n      </g>\n     </g>\n    </g>\n    <g id=\"xtick_4\">\n     <g id=\"line2d_16\">\n      <g>\n       <use style=\"stroke:#000000;stroke-width:0.8;\" x=\"265.374915\" xlink:href=\"#m58badeb560\" y=\"236.6\"/>\n      </g>\n     </g>\n     <g id=\"text_16\">\n      <!-- 30 -->\n      <defs>\n       <path d=\"M 40.578125 39.3125 \nQ 47.65625 37.796875 51.625 33 \nQ 55.609375 28.21875 55.609375 21.1875 \nQ 55.609375 10.40625 48.1875 4.484375 \nQ 40.765625 -1.421875 27.09375 -1.421875 \nQ 22.515625 -1.421875 17.65625 -0.515625 \nQ 12.796875 0.390625 7.625 2.203125 \nL 7.625 11.71875 \nQ 11.71875 9.328125 16.59375 8.109375 \nQ 21.484375 6.890625 26.8125 6.890625 \nQ 36.078125 6.890625 40.9375 10.546875 \nQ 45.796875 14.203125 45.796875 21.1875 \nQ 45.796875 27.640625 41.28125 31.265625 \nQ 36.765625 34.90625 28.71875 34.90625 \nL 20.21875 34.90625 \nL 20.21875 43.015625 \nL 29.109375 43.015625 \nQ 36.375 43.015625 40.234375 45.921875 \nQ 44.09375 48.828125 44.09375 54.296875 \nQ 44.09375 59.90625 40.109375 62.90625 \nQ 36.140625 65.921875 28.71875 65.921875 \nQ 24.65625 65.921875 20.015625 65.03125 \nQ 15.375 64.15625 9.8125 62.3125 \nL 9.8125 71.09375 \nQ 15.4375 72.65625 20.34375 73.4375 \nQ 25.25 74.21875 29.59375 74.21875 \nQ 40.828125 74.21875 47.359375 69.109375 \nQ 53.90625 64.015625 53.90625 55.328125 \nQ 53.90625 49.265625 50.4375 45.09375 \nQ 46.96875 40.921875 40.578125 39.3125 \nz\n\" id=\"DejaVuSans-51\"/>\n      </defs>\n      <g transform=\"translate(259.012415 251.198438)scale(0.1 -0.1)\">\n       <use xlink:href=\"#DejaVuSans-51\"/>\n       <use x=\"63.623047\" xlink:href=\"#DejaVuSans-48\"/>\n      </g>\n     </g>\n    </g>\n    <g id=\"xtick_5\">\n     <g id=\"line2d_17\">\n      <g>\n       <use style=\"stroke:#000000;stroke-width:0.8;\" x=\"330.170369\" xlink:href=\"#m58badeb560\" y=\"236.6\"/>\n      </g>\n     </g>\n     <g id=\"text_17\">\n      <!-- 40 -->\n      <defs>\n       <path d=\"M 37.796875 64.3125 \nL 12.890625 25.390625 \nL 37.796875 25.390625 \nz\nM 35.203125 72.90625 \nL 47.609375 72.90625 \nL 47.609375 25.390625 \nL 58.015625 25.390625 \nL 58.015625 17.1875 \nL 47.609375 17.1875 \nL 47.609375 0 \nL 37.796875 0 \nL 37.796875 17.1875 \nL 4.890625 17.1875 \nL 4.890625 26.703125 \nz\n\" id=\"DejaVuSans-52\"/>\n      </defs>\n      <g transform=\"translate(323.807869 251.198438)scale(0.1 -0.1)\">\n       <use xlink:href=\"#DejaVuSans-52\"/>\n       <use x=\"63.623047\" xlink:href=\"#DejaVuSans-48\"/>\n      </g>\n     </g>\n    </g>\n    <g id=\"xtick_6\">\n     <g id=\"line2d_18\">\n      <g>\n       <use style=\"stroke:#000000;stroke-width:0.8;\" x=\"394.965824\" xlink:href=\"#m58badeb560\" y=\"236.6\"/>\n      </g>\n     </g>\n     <g id=\"text_18\">\n      <!-- 50 -->\n      <defs>\n       <path d=\"M 10.796875 72.90625 \nL 49.515625 72.90625 \nL 49.515625 64.59375 \nL 19.828125 64.59375 \nL 19.828125 46.734375 \nQ 21.96875 47.46875 24.109375 47.828125 \nQ 26.265625 48.1875 28.421875 48.1875 \nQ 40.625 48.1875 47.75 41.5 \nQ 54.890625 34.8125 54.890625 23.390625 \nQ 54.890625 11.625 47.5625 5.09375 \nQ 40.234375 -1.421875 26.90625 -1.421875 \nQ 22.3125 -1.421875 17.546875 -0.640625 \nQ 12.796875 0.140625 7.71875 1.703125 \nL 7.71875 11.625 \nQ 12.109375 9.234375 16.796875 8.0625 \nQ 21.484375 6.890625 26.703125 6.890625 \nQ 35.15625 6.890625 40.078125 11.328125 \nQ 45.015625 15.765625 45.015625 23.390625 \nQ 45.015625 31 40.078125 35.4375 \nQ 35.15625 39.890625 26.703125 39.890625 \nQ 22.75 39.890625 18.8125 39.015625 \nQ 14.890625 38.140625 10.796875 36.28125 \nz\n\" id=\"DejaVuSans-53\"/>\n      </defs>\n      <g transform=\"translate(388.603324 251.198438)scale(0.1 -0.1)\">\n       <use xlink:href=\"#DejaVuSans-53\"/>\n       <use x=\"63.623047\" xlink:href=\"#DejaVuSans-48\"/>\n      </g>\n     </g>\n    </g>\n    <g id=\"text_19\">\n     <!-- $t$ -->\n     <g transform=\"translate(229.777187 269.435625)scale(0.16 -0.16)\">\n      <use transform=\"translate(0 0.78125)\" xlink:href=\"#DejaVuSans-Oblique-116\"/>\n     </g>\n    </g>\n   </g>\n   <g id=\"matplotlib.axis_8\">\n    <g id=\"ytick_10\">\n     <g id=\"line2d_19\">\n      <g>\n       <use style=\"stroke:#000000;stroke-width:0.8;\" x=\"54.789687\" xlink:href=\"#m17aca826c5\" y=\"236.6\"/>\n      </g>\n     </g>\n     <g id=\"text_20\">\n      <!-- −25 -->\n      <g transform=\"translate(26.685 240.399219)scale(0.1 -0.1)\">\n       <use xlink:href=\"#DejaVuSans-8722\"/>\n       <use x=\"83.789062\" xlink:href=\"#DejaVuSans-50\"/>\n       <use x=\"147.412109\" xlink:href=\"#DejaVuSans-53\"/>\n      </g>\n     </g>\n    </g>\n    <g id=\"ytick_11\">\n     <g id=\"line2d_20\">\n      <g>\n       <use style=\"stroke:#000000;stroke-width:0.8;\" x=\"54.789687\" xlink:href=\"#m17aca826c5\" y=\"216.1625\"/>\n      </g>\n     </g>\n     <g id=\"text_21\">\n      <!-- 0 -->\n      <g transform=\"translate(41.427188 219.961719)scale(0.1 -0.1)\">\n       <use xlink:href=\"#DejaVuSans-48\"/>\n      </g>\n     </g>\n    </g>\n    <g id=\"ytick_12\">\n     <g id=\"line2d_21\">\n      <g>\n       <use style=\"stroke:#000000;stroke-width:0.8;\" x=\"54.789687\" xlink:href=\"#m17aca826c5\" y=\"195.725\"/>\n      </g>\n     </g>\n     <g id=\"text_22\">\n      <!-- 25 -->\n      <g transform=\"translate(35.064687 199.524219)scale(0.1 -0.1)\">\n       <use xlink:href=\"#DejaVuSans-50\"/>\n       <use x=\"63.623047\" xlink:href=\"#DejaVuSans-53\"/>\n      </g>\n     </g>\n    </g>\n    <g id=\"text_23\">\n     <!-- $(x_t)_2$ -->\n     <g transform=\"translate(19.3575 233.4425)rotate(-90)scale(0.16 -0.16)\">\n      <use transform=\"translate(0 0.125)\" xlink:href=\"#DejaVuSans-40\"/>\n      <use transform=\"translate(39.013672 0.125)\" xlink:href=\"#DejaVuSans-Oblique-120\"/>\n      <use transform=\"translate(98.193359 -16.28125)scale(0.7)\" xlink:href=\"#DejaVuSans-Oblique-116\"/>\n      <use transform=\"translate(128.374023 0.125)\" xlink:href=\"#DejaVuSans-41\"/>\n      <use transform=\"translate(168.344727 -16.28125)scale(0.7)\" xlink:href=\"#DejaVuSans-50\"/>\n     </g>\n    </g>\n   </g>\n   <g id=\"line2d_22\">\n    <path clip-path=\"url(#p7370397364)\" d=\"M 70.988551 216.983099 \nL 77.468097 216.350934 \nL 83.947642 214.989089 \nL 90.427188 214.569766 \nL 96.906733 214.833408 \nL 103.386278 217.952317 \nL 109.865824 220.361964 \nL 116.345369 221.581319 \nL 122.824915 222.267648 \nL 129.30446 222.978328 \nL 135.784006 224.037612 \nL 142.263551 225.57933 \nL 148.743097 227.595057 \nL 155.222642 229.979043 \nL 161.702187 232.49333 \nL 168.181733 232.577072 \nL 174.661278 232.620128 \nL 181.140824 232.831773 \nL 187.620369 233.622476 \nL 194.099915 234.461902 \nL 200.57946 234.974305 \nL 207.059006 235.014895 \nL 213.538551 234.596389 \nL 220.018097 233.821052 \nL 226.497642 232.824673 \nL 232.977187 231.736262 \nL 239.456733 230.654127 \nL 245.936278 229.63641 \nL 252.415824 228.70253 \nL 258.895369 227.841336 \nL 265.374915 227.022069 \nL 271.85446 226.205014 \nL 278.334006 225.349849 \nL 284.813551 224.420802 \nL 291.293097 223.388689 \nL 297.772642 222.230592 \nL 304.252187 220.92843 \nL 310.731733 219.46789 \nL 317.211278 217.839364 \nL 323.690824 216.074891 \nL 330.170369 215.722334 \nL 336.649915 215.215329 \nL 343.12946 214.843814 \nL 349.609006 214.892232 \nL 356.088551 215.513801 \nL 362.568097 216.699087 \nL 369.047642 216.992864 \nL 375.527187 216.566892 \nL 382.006733 215.350961 \nL 388.486278 214.881227 \nL 394.965824 216.1625 \n\" style=\"fill:none;stroke:#1f77b4;stroke-linecap:square;stroke-width:1.5;\"/>\n   </g>\n   <g id=\"patch_18\">\n    <path d=\"M 54.789687 236.6 \nL 54.789687 195.725 \n\" style=\"fill:none;stroke:#000000;stroke-linecap:square;stroke-linejoin:miter;stroke-width:0.8;\"/>\n   </g>\n   <g id=\"patch_19\">\n    <path d=\"M 411.164687 236.6 \nL 411.164687 195.725 \n\" style=\"fill:none;stroke:#000000;stroke-linecap:square;stroke-linejoin:miter;stroke-width:0.8;\"/>\n   </g>\n   <g id=\"patch_20\">\n    <path d=\"M 54.789688 236.6 \nL 411.164687 236.6 \n\" style=\"fill:none;stroke:#000000;stroke-linecap:square;stroke-linejoin:miter;stroke-width:0.8;\"/>\n   </g>\n   <g id=\"patch_21\">\n    <path d=\"M 54.789688 195.725 \nL 411.164687 195.725 \n\" style=\"fill:none;stroke:#000000;stroke-linecap:square;stroke-linejoin:miter;stroke-width:0.8;\"/>\n   </g>\n  </g>\n </g>\n <defs>\n  <clipPath id=\"p4441e9c1fe\">\n   <rect height=\"40.875\" width=\"356.375\" x=\"54.789687\" y=\"10.7\"/>\n  </clipPath>\n  <clipPath id=\"pc4c937ad9c\">\n   <rect height=\"40.875\" width=\"356.375\" x=\"54.789687\" y=\"72.375\"/>\n  </clipPath>\n  <clipPath id=\"pd8bc57d5f9\">\n   <rect height=\"40.875\" width=\"356.375\" x=\"54.789687\" y=\"134.05\"/>\n  </clipPath>\n  <clipPath id=\"p7370397364\">\n   <rect height=\"40.875\" width=\"356.375\" x=\"54.789687\" y=\"195.725\"/>\n  </clipPath>\n </defs>\n</svg>\n",
            "text/plain": [
              "<Figure size 432x288 with 4 Axes>"
            ]
          },
          "metadata": {
            "tags": [],
            "needs_background": "light"
          }
        }
      ]
    }
  ]
}